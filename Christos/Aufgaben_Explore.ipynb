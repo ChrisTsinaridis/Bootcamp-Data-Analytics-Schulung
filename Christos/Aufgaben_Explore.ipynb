{
 "cells": [
  {
   "cell_type": "markdown",
   "metadata": {},
   "source": [
    "# Schritt 3: Datensatz explorieren"
   ]
  },
  {
   "cell_type": "markdown",
   "metadata": {},
   "source": [
    "<div class=\"alert alert-block alert-info\"><b>Wiederholung</b>\n",
    "\n",
    "Im letzten Kapitel haben wir folgendes gelernt:\n",
    "- bestimmte Zeilen & Spalten mithilfe von loc & iloc auslesen\n",
    "- Werte in der Tabelle ändern\n",
    "- falsche oder unlogische Daten filtern & korrigieren\n",
    "- Masken\n",
    "- Datentypen\n",
    "\n",
    "Nun wenden wir das gelernte an!\n",
    "</div>"
   ]
  },
  {
   "cell_type": "markdown",
   "metadata": {},
   "source": [
    "## Ausgangslage\n",
    "<div class=\"alert alert-block alert-success\"><b> Im letzten Kapitel haben wir unseren Datensatz bereinigt. Nun möchten wir in diesem Kapitel unseren Datensatz erforschen. <br><br> Dein Vorgesetzter möchte nun etwas mehr über den Arbeitsmarkt im Bereich Data Analytics / DataScience wissen, denn er hat vor diese Sparte in Zukunft zu erweitern. <br><br>Für seine Budget-Planung möchte er konkret folgende Informationen haben: </b> </div> \n",
    "\n",
    "- Aus welchen Jahr sind die Gehaltsdaten? \n",
    "- Die Anzahl der Personen aus dem jeweiligen Gehaltsjahr\n",
    "- Wie viele Machine Learning Scientists gibt es im Unternehmen?\n",
    "- Wie viele Personen arbeiten ausschließlich remote?\n",
    "- Wie viele Leute arbeiten an Deutschen Standorten als Data Scientist?\n",
    "- Wie viele Personen im Unternehmen verdienen mehr als 100.000€ pro Jahr?\n",
    "- Welche Personen arbeiten für eine Firma mit mehr als 250 Personen?\n",
    "- Wie viele Personen arbeiten in Teilzeit?\n",
    "- Wie viele Personen wohnen in der USA?\n",
    "\n",
    "<br> optional:\n",
    "\n",
    "- DataFrame mit allen Data Scientists, deren Gehalt, der Erfahrung -> geordnert nach dem Gehalt   \n",
    "- Falls die Gehaltsdaten nicht in Euro angegeen sind, die jeweilige Währung in Euro umwandeln und nach dem Gehalt sortierten\n",
    "  <br>"
   ]
  },
  {
   "cell_type": "markdown",
   "metadata": {},
   "source": [
    "## Aufgabe 1\n",
    "\n",
    " <div class=\"alert alert-block alert-info\"> Fangen wir mit der ersten Aufgaben an. <br> <br> <b> Dein Vorgesetzter möchte gern wissen aus welchem Jahr die Gehaltsdaten stammen.<br> <br></b>  Zusätzliche bittet er dich darum die Anzahl aller Personen aus dem jeweiligen Gehaltsjahr zu ermitteln. <br><br>  Tipp: Es wird eine Maske benötigt Das Ergebnis sollte etwa so aussehen: \n",
    "\n",
    "  \n",
    "  ![image.png](./Images/Aufgabe1.png)\n",
    "  </div>\n",
    "\n"
   ]
  },
  {
   "cell_type": "code",
   "execution_count": 1,
   "metadata": {},
   "outputs": [],
   "source": [
    "#Gib hier deinen Code ein"
   ]
  },
  {
   "cell_type": "markdown",
   "metadata": {},
   "source": [
    "## Aufgabe 2\n",
    "\n",
    " <div class=\"alert alert-block alert-info\"> <b>Nun sollen wir die Anzahl aller Machine Learning Scientists herausfinden.</b> <br> <br>Tipp: Auch hier wird eine Maske benötigt.<br><br> Das Ergebnis sollte etwa so aussehen: \n",
    "  </b>\n",
    "  \n",
    "  ![image.png](./Images/Aufgabe2.png)\n",
    "  </div>\n"
   ]
  },
  {
   "cell_type": "code",
   "execution_count": 2,
   "metadata": {},
   "outputs": [],
   "source": [
    "#Gib hier deinen Code ein"
   ]
  },
  {
   "attachments": {},
   "cell_type": "markdown",
   "metadata": {},
   "source": [
    "## Aufgabe 3\n",
    "\n",
    " <div class=\"alert alert-block alert-info\"> Seit Corona arbeiten immer mehr Arbeitnehmer von Zuhause aus \n",
    "  \n",
    "  <br> <b> Wie viele Leute arbeiten mittlerweile nur noch (also 100%) Remote? </b>\n",
    "  \n",
    "  Tipp: Du benötigst eine Maske. Außerdem wird hier die Function round() benötigt. Falls du diese Funktion nicht kennst, kannst du sie ganz einfach googlen :)\n",
    "  <br><br> Das Ergebnis sollte etwa so aussehen: \n",
    "  \n",
    "  \n",
    "  ![image.png](./Images/Aufgabe3.png)\n",
    "  </div>"
   ]
  },
  {
   "cell_type": "code",
   "execution_count": 3,
   "metadata": {},
   "outputs": [],
   "source": [
    "#Gib hier deinen Code ein"
   ]
  },
  {
   "cell_type": "markdown",
   "metadata": {},
   "source": [
    "## Aufgabe 4\n",
    "\n",
    " <div class=\"alert alert-block alert-info\"> <b>Wie viele Leute arbeiten in Deutschland als Data Scientist?</b>\n",
    "  \n",
    "  \n",
    "  Tipp: Du benötigst zwei Masken. Für die ausgabe kannst du die len() Funktion benutzen.\n",
    "  <br><br> Das Ergebnis sollte etwa so aussehen: \n",
    "  \n",
    "  \n",
    "  ![image.png](./Images/Aufgabe4.png)\n",
    "  </div>"
   ]
  },
  {
   "cell_type": "code",
   "execution_count": 4,
   "metadata": {},
   "outputs": [],
   "source": [
    "#Giib hier deinen Code ein"
   ]
  },
  {
   "cell_type": "markdown",
   "metadata": {},
   "source": [
    "## Aufgabe 5\n",
    "\n",
    " <div class=\"alert alert-block alert-info\"> <b>Wie viele Personen verdienen mind. 100.000 pro Jahr?</b>\n",
    "  \n",
    "  \n",
    "  Tipp: Du benötigst zwei Masken. Für die ausgabe kannst du wieder die len() Funktion benutzen.\n",
    "  <br><br> Das Ergebnis sollte etwa so aussehen: \n",
    "  \n",
    "  \n",
    "  ![image.png](./Images/Aufgabe5.png)\n",
    "  </div>"
   ]
  },
  {
   "cell_type": "code",
   "execution_count": 5,
   "metadata": {},
   "outputs": [],
   "source": [
    "#Gib hier deinen Code ein"
   ]
  },
  {
   "attachments": {},
   "cell_type": "markdown",
   "metadata": {},
   "source": [
    "## Aufgabe 6\n",
    "\n",
    " <div class=\"alert alert-block alert-info\"> <b>Wie viele Leute arbeiten für eine Firma mit mehr als 250 Mitarbeitern?</b>\n",
    "  \n",
    "  \n",
    "  Tipp: Du benötigst eine Masken. Für die ausgabe kannst du wieder die len() Funktion benutzen.\n",
    "  <br><br> Das Ergebnis sollte etwa so aussehen: \n",
    "  \n",
    "  \n",
    "  ![image.png](./Images/Aufgabe6.png)\n",
    "  </div>"
   ]
  },
  {
   "cell_type": "code",
   "execution_count": 6,
   "metadata": {},
   "outputs": [],
   "source": [
    "#Gib hier deinen Code ein"
   ]
  },
  {
   "attachments": {},
   "cell_type": "markdown",
   "metadata": {},
   "source": [
    "\n",
    "## Aufgabe 7\n",
    "\n",
    " <div class=\"alert alert-block alert-info\"> <b>Wie viele Leute arbeiten in Teilzeit? Gib das DataFrame anschließend aus.</b>\n",
    "  \n",
    "  \n",
    "  Tipp: Du benötigst eine Masken. Für die ausgabe kannst du wieder die len() Funktion benutzen.\n",
    "  <br><br> Das Ergebnis sollte etwa so aussehen: \n",
    "  \n",
    "  \n",
    "  ![image.png](./Images/Aufgabe7.png)\n",
    "  </div>\n"
   ]
  },
  {
   "cell_type": "code",
   "execution_count": 7,
   "metadata": {},
   "outputs": [],
   "source": [
    "#Gib hier deinen Code ein"
   ]
  },
  {
   "attachments": {},
   "cell_type": "markdown",
   "metadata": {},
   "source": [
    "## Aufgabe 8\n",
    "\n",
    " <div class=\"alert alert-block alert-info\"> <b>Wie viele Leute wohnen in den USA?</b>\n",
    "  \n",
    "  \n",
    "  Tipp: Du benötigst eine Maske. Für die ausgabe kannst du wieder die len() Funktion benutzen.\n",
    "  <br><br> Das Ergebnis sollte etwa so aussehen: \n",
    "  \n",
    "  \n",
    "  ![image.png](./Images/Aufgabe8.png)\n",
    "  </div>\n"
   ]
  },
  {
   "cell_type": "code",
   "execution_count": 8,
   "metadata": {},
   "outputs": [],
   "source": [
    "#Gib hier deinen Code ein"
   ]
  },
  {
   "attachments": {},
   "cell_type": "markdown",
   "metadata": {},
   "source": [
    "# Für die schnellen:\n",
    "-------"
   ]
  },
  {
   "cell_type": "markdown",
   "metadata": {},
   "source": [
    "## Aufgabe 9\n",
    "\n",
    " <div class=\"alert alert-block alert-info\"> <b>gib ein DataFrame aus das: </b>\n",
    "\n",
    "</div>\n",
    "\n",
    "   - alle Data Scientiests\n",
    " - deren Gehalt \n",
    " - deren Erfahrung \n",
    " - geordnet nach dem gehalt (absteigend)\n",
    " \n",
    "\n",
    " <div class=\"alert alert-block alert-info\"> ausgibt <br>\n",
    "  <br>Tipp: Du benötigst eine Maske. Für die ausgabe kannst du wieder die len() Funktion benutzen.\n",
    "  <br><br> Das Ergebnis sollte etwa so aussehen: \n",
    "  \n",
    "  \n",
    "  ![image.png](./Images/Aufgabe9.png)\n",
    "  </div>"
   ]
  },
  {
   "cell_type": "code",
   "execution_count": 9,
   "metadata": {},
   "outputs": [],
   "source": [
    "#Gib deinen Code hier ein"
   ]
  },
  {
   "attachments": {},
   "cell_type": "markdown",
   "metadata": {},
   "source": [
    "## Aufgabe 10\n",
    "\n",
    " <div class=\"alert alert-block alert-info\"> <b>Füge eine Zeile hinzu die das Gehalt der jeweiligen Währung in Euro umwandelt & sortiere dann Anchließend alle Gehälter absteigend. Wie viel verschiedene Währungen gibt es?</b>\n",
    "  \n",
    "  \n",
    "  Tipp: Du benötigst eine Maske. Für die ausgabe kannst du wieder die len() Funktion benutzen.\n",
    "  <br><br> Das Ergebnis sollte etwa so aussehen: \n",
    "  \n",
    "  \n",
    "  ![image.png](./Images/Aufgabe10.png)\n",
    "  </div>\n"
   ]
  },
  {
   "cell_type": "code",
   "execution_count": 1,
   "metadata": {},
   "outputs": [],
   "source": [
    "#Gib deinen Code hier ein"
   ]
  }
 ],
 "metadata": {
  "kernelspec": {
   "display_name": "Python 3",
   "language": "python",
   "name": "python3"
  },
  "language_info": {
   "codemirror_mode": {
    "name": "ipython",
    "version": 3
   },
   "file_extension": ".py",
   "mimetype": "text/x-python",
   "name": "python",
   "nbconvert_exporter": "python",
   "pygments_lexer": "ipython3",
   "version": "3.9.6"
  },
  "orig_nbformat": 4
 },
 "nbformat": 4,
 "nbformat_minor": 2
}
