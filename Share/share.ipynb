{
 "cells": [
  {
   "attachments": {},
   "cell_type": "markdown",
   "metadata": {},
   "source": [
    "<div class=\"alert alert-block alert-success\"><b>Glückwunsch!</b> <br>\n",
    "Sehr gut! <br>\n",
    "Du bist, soweit dein Ergebnis deinen Kunden bzw. Abteilung vorzustellen. <br>\n",
    "Hierbei muss du deine Kenntnisse zusammenführen und dein Verständnis über den Datensatz deine Zielgruppe vorstellen. <br>\n",
    "Schauen  wir uns an, wie wir das Ganze bewerkstelligen. <br>    \n",
    "</div>"
   ]
  },
  {
   "attachments": {},
   "cell_type": "markdown",
   "metadata": {},
   "source": [
    "<div class=\"alert alert-block alert-warning\"><b>Definition</b>  <br>\n",
    "**1.Zielgruppe verstehen:** Kenne deine Zuhörer, um den Inhalt und das Niveau der Präsentation an ihre Bedürfnisse anzupassen. <br>\n",
    "**2.Klare Struktur:** Gliedere die Präsentation in Einleitung, Hauptteil und Schluss, um die Informationen klar und verständlich zu vermitteln. <br>\n",
    "**3.Hauptergebnisse hervorheben:** Fokussiere dich auf die wichtigsten Ergebnisse, um die Kernbotschaften klar zu kommunizieren. <br>\n",
    "**4.Visualisierung nutzen:** Verwende Grafiken und Diagramme, um Daten anschaulich und leicht verständlich zu präsentieren. <br>\n",
    "**5.Interpretation der Ergebnisse:** Erkläre die Bedeutung der Ergebnisse, um ihre Relevanz für das Gesamtziel deutlich zu machen. <br>\n",
    "**6.Zeitmanagement und Üben:** Halte die Präsentation innerhalb des Zeitrahmens und übe vorab, um selbstbewusst aufzutreten und Fragen souverän zu beantworten. <br>\n",
    "</div>"
   ]
  },
  {
   "attachments": {},
   "cell_type": "markdown",
   "metadata": {},
   "source": [
    "<div class=\"alert alert-block alert-info\"><b>Szenario</b>\n",
    "Nun bist du an der Reihe. <br>\n",
    "Du bekommst einen Datensatz und musst ihn deiner Abteilung vorstellen.<br>\n",
    "Keine Sorge du sollest alle relevanten Informationen haben um deine eigene Analyse fertigzustellen. <br>\n",
    "Frage deine Coaches und Kollegen. <br>\n",
    "Los gehts! <br>\n",
    "</div>"
   ]
  },
  {
   "cell_type": "code",
   "execution_count": null,
   "metadata": {},
   "outputs": [],
   "source": [
    "#Starte hier deine Analyse nutze viele Zellen und benenne Df sinnvoll"
   ]
  }
 ],
 "metadata": {
  "kernelspec": {
   "display_name": "base",
   "language": "python",
   "name": "python3"
  },
  "language_info": {
   "codemirror_mode": {
    "name": "ipython",
    "version": 3
   },
   "file_extension": ".py",
   "mimetype": "text/x-python",
   "name": "python",
   "nbconvert_exporter": "python",
   "pygments_lexer": "ipython3",
   "version": "3.8.5"
  },
  "orig_nbformat": 4
 },
 "nbformat": 4,
 "nbformat_minor": 2
}
