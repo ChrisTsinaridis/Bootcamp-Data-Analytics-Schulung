{
 "cells": [
  {
   "attachments": {},
   "cell_type": "markdown",
   "metadata": {},
   "source": [
    "<div class=\"alert alert-block alert-success\"><b>Glückwunsch!</b>\n",
    "! <br>\n",
    "Du bist, soweit dein Ergebnis deinen Kunden bzw. Abteilung vorzustellen. <br>\n",
    "Hierbei muss du deine Kenntnisse zusammenführen und dein Verständnis über den Datensatz deine Zielgruppe vorstellen. <br>\n",
    "Schauen  wir uns an, wie wir das Ganze bewerkstelligen. <br>    \n",
    "</div>"
   ]
  },
  {
   "attachments": {},
   "cell_type": "markdown",
   "metadata": {},
   "source": [
    "<div class=\"alert alert-block alert-warning\"><b>Definition</b>\n",
    "\n",
    "Zielgruppe verstehen: Kenne deine Zuhörer, um den Inhalt und das Niveau der Präsentation an ihre Bedürfnisse anzupassen.\n",
    "Klare Struktur: Gliedere die Präsentation in Einleitung, Hauptteil und Schluss, um die Informationen klar und verständlich zu vermitteln.\n",
    "Hauptergebnisse hervorheben: Fokussiere dich auf die wichtigsten Ergebnisse, um die Kernbotschaften klar zu kommunizieren.\n",
    "Visualisierung nutzen: Verwende Grafiken und Diagramme, um Daten anschaulich und leicht verständlich zu präsentieren.\n",
    "Interpretation der Ergebnisse: Erkläre die Bedeutung der Ergebnisse, um ihre Relevanz für das Gesamtziel deutlich zu machen.\n",
    "Zeitmanagement und Üben: Halte die Präsentation innerhalb des Zeitrahmens und übe vorab, um selbstbewusst aufzutreten und Fragen souverän zu beantworten.\n",
    "    \n",
    "</div>"
   ]
  },
  {
   "cell_type": "markdown",
   "metadata": {},
   "source": [
    "<div class=\"alert alert-block alert-info\"><b>Szenario</b>\n",
    "\n",
    "Her\n",
    "    \n",
    "</div>"
   ]
  }
 ],
 "metadata": {
  "kernelspec": {
   "display_name": "base",
   "language": "python",
   "name": "python3"
  },
  "language_info": {
   "codemirror_mode": {
    "name": "ipython",
    "version": 3
   },
   "file_extension": ".py",
   "mimetype": "text/x-python",
   "name": "python",
   "nbconvert_exporter": "python",
   "pygments_lexer": "ipython3",
   "version": "3.8.5"
  },
  "orig_nbformat": 4
 },
 "nbformat": 4,
 "nbformat_minor": 2
}
